{
 "cells": [
  {
   "cell_type": "markdown",
   "metadata": {
    "pycharm": {
     "name": "#%% md\n"
    }
   },
   "source": [
    "# Benchmark of PYSCAL_GLASSVIEWER "
   ]
  },
  {
   "cell_type": "markdown",
   "metadata": {
    "pycharm": {
     "name": "#%% md\n"
    }
   },
   "source": [
    "Pyscal_Glassviewer is a FORK of Pyscal, which is modified and improved for Metal Glass data post-processing tasks by Zihao Bai, Jilin University.\n",
    "This Benchmark uses a POSCAR file from MD of Al melting process. In order to test the partial PDF module and SRO module, we label the atoms into Al1 and Al2. The properties is as following:\n",
    "\n",
    "Box parameter:\n",
    "\n",
    "    55.996 0.0 0.0\n",
    "    0.0 56.923 0.0\n",
    "    0.0 0.0 56.369\n",
    "    \n",
    "Atom Numbers:\n",
    "\n",
    "    Al1 Al2\n",
    "    10000 976 \n"
   ]
  },
  {
   "cell_type": "markdown",
   "metadata": {
    "pycharm": {
     "name": "#%% md\n"
    }
   },
   "source": [
    "## Initialization, Split Trajectory and Read Files"
   ]
  },
  {
   "cell_type": "code",
   "execution_count": 1,
   "metadata": {
    "pycharm": {
     "name": "#%%\n"
    }
   },
   "outputs": [],
   "source": [
    "import sys\n",
    "#sys1.path.append(\"../src\")\n",
    "import pyscal as pc\n",
    "import pyscal.traj_process as ptp\n",
    "import matplotlib.pyplot as plt\n",
    "import numpy as np\n",
    "import cChargeAnalysis \n",
    "import ChargeAnalysis\n",
    "import calCD\n",
    "import seaborn as sns\n",
    "%matplotlib qt\n"
   ]
  },
  {
   "cell_type": "markdown",
   "metadata": {
    "pycharm": {
     "name": "#%% md\n"
    }
   },
   "source": []
  },
  {
   "cell_type": "code",
   "execution_count": 3,
   "metadata": {
    "pycharm": {
     "name": "#%%\n"
    }
   },
   "outputs": [],
   "source": [
    "files=ptp.split_trajectory('XDATCAR',format='poscar',makedir=True) #split the poscar from XDATCAR"
   ]
  },
  {
   "cell_type": "code",
   "execution_count": 2,
   "metadata": {},
   "outputs": [
    {
     "ename": "NameError",
     "evalue": "name 'files' is not defined",
     "output_type": "error",
     "traceback": [
      "\u001b[1;31m---------------------------------------------------------------------------\u001b[0m",
      "\u001b[1;31mNameError\u001b[0m                                 Traceback (most recent call last)",
      "\u001b[1;32mc:\\Users\\baizh\\Desktop\\chargepython\\glassviewer.ipynb Cell 7\u001b[0m in \u001b[0;36m<cell line: 3>\u001b[1;34m()\u001b[0m\n\u001b[0;32m      <a href='vscode-notebook-cell:/c%3A/Users/baizh/Desktop/chargepython/glassviewer.ipynb#ch0000007?line=0'>1</a>\u001b[0m step\u001b[39m=\u001b[39m\u001b[39m1999\u001b[39m\n\u001b[0;32m      <a href='vscode-notebook-cell:/c%3A/Users/baizh/Desktop/chargepython/glassviewer.ipynb#ch0000007?line=1'>2</a>\u001b[0m vol\u001b[39m=\u001b[39m[]\n\u001b[1;32m----> <a href='vscode-notebook-cell:/c%3A/Users/baizh/Desktop/chargepython/glassviewer.ipynb#ch0000007?line=2'>3</a>\u001b[0m \u001b[39mfor\u001b[39;00m i \u001b[39min\u001b[39;00m files:\n\u001b[0;32m      <a href='vscode-notebook-cell:/c%3A/Users/baizh/Desktop/chargepython/glassviewer.ipynb#ch0000007?line=4'>5</a>\u001b[0m     \u001b[39mformat\u001b[39m\u001b[39m=\u001b[39m\u001b[39m\"\u001b[39m\u001b[39mposcar\u001b[39m\u001b[39m\"\u001b[39m\n\u001b[0;32m      <a href='vscode-notebook-cell:/c%3A/Users/baizh/Desktop/chargepython/glassviewer.ipynb#ch0000007?line=5'>6</a>\u001b[0m     sys1 \u001b[39m=\u001b[39m pc\u001b[39m.\u001b[39mSystem()\n",
      "\u001b[1;31mNameError\u001b[0m: name 'files' is not defined"
     ]
    }
   ],
   "source": [
    "step=1999\n",
    "vol=[]\n",
    "for i in files:\n",
    "    \n",
    "    format=\"poscar\"\n",
    "    sys1 = pc.System()\n",
    "    sys1.read_inputfile(i, format=format)#format{'lammps-dump', 'poscar', 'ase', 'mdtraj'}\n",
    "    sys1.get_rho_vol()\n",
    "    vol.append(sys1.vol)\n",
    "    print(i,sys1.vol,step)\n",
    "    step=step+2000"
   ]
  },
  {
   "cell_type": "markdown",
   "metadata": {
    "pycharm": {
     "name": "#%% md\n"
    }
   },
   "source": [
    "Here we do not use the splitted trajectory above. Instead we choose a POSCAR which satisfy the condition described in the summary."
   ]
  },
  {
   "cell_type": "code",
   "execution_count": 3,
   "metadata": {
    "pycharm": {
     "name": "#%%\n"
    }
   },
   "outputs": [],
   "source": [
    "#file=files[40]\n",
    "format=\"poscar\"\n",
    "sys1 = pc.System()\n",
    "sys1.read_inputfile('XDATCAR.snap.50.dat', format=format)#format{'lammps-dump', 'poscar', 'ase', 'mdtraj'}\n",
    "#sys1.read_inputfile('poscar', format=format)#format{'lammps-dump', 'poscar', 'ase', 'mdtraj'}"
   ]
  },
  {
   "cell_type": "markdown",
   "metadata": {},
   "source": [
    "## Calculate the Charge Density"
   ]
  },
  {
   "cell_type": "code",
   "execution_count": 4,
   "metadata": {},
   "outputs": [],
   "source": [
    "bohr=0.529177208607388"
   ]
  },
  {
   "cell_type": "code",
   "execution_count": 5,
   "metadata": {},
   "outputs": [],
   "source": [
    "cChargcal=cChargeAnalysis.ChargeAnalysis()\n",
    "cChargcal.debug=True\n",
    "cChargcal.ChargeAnalysisInit('atlas.den50',np.sum(sys1.box,axis=0)/bohr,sys1.natoms)\n"
   ]
  },
  {
   "cell_type": "markdown",
   "metadata": {},
   "source": []
  },
  {
   "cell_type": "code",
   "execution_count": 6,
   "metadata": {},
   "outputs": [],
   "source": [
    "modes=[2]\n",
    "#modes=[3]# 0 for voronoisum 1 for cutoffsum 2 for pdf 3 for boo\n",
    "modevoronoisum=0\n",
    "modecutoffsum=1\n",
    "modepdf=2\n",
    "modeboo=3\n",
    "allmodenum=4\n",
    "threadnum=14\n",
    "CDresults=[[] for i in range(allmodenum)]\n",
    "cChargcal.threadnum=14\n",
    "for mode in modes:\n",
    "    if mode==3:\n",
    "        boocut=3.645*1.5/bohr\n",
    "        histlow=0\n",
    "        histbin=1000\n",
    "        boolist=[6]\n",
    "        atomscut = sys1.atoms\n",
    "        den=[0 for i in range(len(atomscut))]\n",
    "        for atom in atomscut:\n",
    "            den[atom.loc]=cChargcal.calculate_q_sumYdotCharge(boolist,np.array(atom.pos)/bohr,boocut,histlow,histbin)\n",
    "        CDresults[mode]=den\n",
    "                \n",
    "    if mode==2:\n",
    "        pdfcut=3.645*1.5/bohr\n",
    "        histlow=0\n",
    "        histbin=1000\n",
    "        atomscut = sys1.atoms\n",
    "        den=[0 for i in range(len(atomscut))]\n",
    "        for atom in atomscut:\n",
    "            den[atom.loc]=cChargcal.CD_pdf(np.array(atom.pos)/bohr,pdfcut,histlow,histbin)\n",
    "            #print(den[atom.loc])\n",
    "        CDresults[mode]=den\n",
    "    if mode==1:\n",
    "        CDSumCut=3.645/2/bohr\n",
    "        atomscut = sys1.atoms\n",
    "        den=[0 for i in range(len(atomscut))]\n",
    "        for atom in atomscut:\n",
    "            den[atom.loc]=cChargcal.SumMethod_cut(np.array(atom.pos)/bohr,CDSumCut)\n",
    "            #print(den[atom.loc])\n",
    "        CDresults[mode]=den\n",
    "    if mode==0:\n",
    "        sys1.find_neighbors(method=\"voronoi\")#method can be selected among \"cutoff voronoi number\", details can \n",
    "        atomsvoro = sys1.atoms\n",
    "        den=[0 for i in range(len(atomsvoro))]\n",
    "\n",
    "        for atom in atomsvoro:\n",
    "            v3s=[]\n",
    "            st = 1\n",
    "            for vno in atom.face_vertices:\n",
    "                vphase = atom.vertex_numbers[st:st+vno]\n",
    "                ipos = atom.vertex_positions[vphase[0]]\n",
    "                jpos = atom.vertex_positions[vphase[int((len(vphase)-1)/2)]]\n",
    "                kpos = atom.vertex_positions[vphase[len(vphase)-1]]\n",
    "                v3s.append([ipos,jpos,kpos])\n",
    "                st += (vno+1)\n",
    "            \n",
    "            den[atom.loc]=cChargcal.SumMethod_voro(np.array(v3s)/bohr,np.array(atom.vertex_positions)/bohr)\n",
    "            #print(den[atom.loc])\n",
    "        CDresults[mode]=den\n"
   ]
  },
  {
   "cell_type": "code",
   "execution_count": 8,
   "metadata": {},
   "outputs": [
    {
     "ename": "IndexError",
     "evalue": "list index out of range",
     "output_type": "error",
     "traceback": [
      "\u001b[1;31m---------------------------------------------------------------------------\u001b[0m",
      "\u001b[1;31mIndexError\u001b[0m                                Traceback (most recent call last)",
      "\u001b[1;32mc:\\Users\\baizh\\Desktop\\chargepython\\glassviewer.ipynb Cell 15\u001b[0m in \u001b[0;36m<cell line: 11>\u001b[1;34m()\u001b[0m\n\u001b[0;32m      <a href='vscode-notebook-cell:/c%3A/Users/baizh/Desktop/chargepython/glassviewer.ipynb#ch0000072?line=8'>9</a>\u001b[0m chargelist\u001b[39m=\u001b[39m[]\n\u001b[0;32m     <a href='vscode-notebook-cell:/c%3A/Users/baizh/Desktop/chargepython/glassviewer.ipynb#ch0000072?line=10'>11</a>\u001b[0m \u001b[39mfor\u001b[39;00m atom \u001b[39min\u001b[39;00m \u001b[39mrange\u001b[39m(\u001b[39m1\u001b[39m):\n\u001b[1;32m---> <a href='vscode-notebook-cell:/c%3A/Users/baizh/Desktop/chargepython/glassviewer.ipynb#ch0000072?line=11'>12</a>\u001b[0m     charge\u001b[39m=\u001b[39mnp\u001b[39m.\u001b[39maverage(np\u001b[39m.\u001b[39maverage(CDresults[mode][atom][iCharge],axis\u001b[39m=\u001b[39m\u001b[39m0\u001b[39m),axis\u001b[39m=\u001b[39m\u001b[39m0\u001b[39m)\n\u001b[0;32m     <a href='vscode-notebook-cell:/c%3A/Users/baizh/Desktop/chargepython/glassviewer.ipynb#ch0000072?line=12'>13</a>\u001b[0m     chargelist\u001b[39m.\u001b[39mappend(charge)\n\u001b[0;32m     <a href='vscode-notebook-cell:/c%3A/Users/baizh/Desktop/chargepython/glassviewer.ipynb#ch0000072?line=13'>14</a>\u001b[0m     qlrlistdotcharge\u001b[39m.\u001b[39mappend([])\n",
      "\u001b[1;31mIndexError\u001b[0m: list index out of range"
     ]
    }
   ],
   "source": [
    "# CDresults[mode][atom][real/img/Charge][l][m][hist_r]\n",
    "\n",
    "ls=[6]\n",
    "qlrlistdotcharge=[]\n",
    "mode=3\n",
    "ireal=0\n",
    "iimg=1\n",
    "iCharge=2\n",
    "chargelist=[]\n",
    "\n",
    "for atom in range(1):\n",
    "    charge=np.average(np.average(CDresults[mode][atom][iCharge],axis=0),axis=0)\n",
    "    chargelist.append(charge)\n",
    "    qlrlistdotcharge.append([])\n",
    "    for lth,l in enumerate(ls):\n",
    "        qlrlistdotcharge[atom].append(np.zeros(len(charge)))\n",
    "        \n",
    "        for mth,m in enumerate(range(-l,l+1)):\n",
    "            \n",
    "            qlmr_real=np.array(CDresults[mode][atom][ireal][lth][mth])\n",
    "            qlmr_img=np.array(CDresults[mode][atom][iimg][lth][mth])\n",
    "            qlrlistdotcharge[atom][lth]+= qlmr_real*qlmr_real+qlmr_img*qlmr_img\n",
    "        qlrlistdotcharge[atom][lth]*=4*np.pi/(2*l+1)\n",
    "        qlrlistdotcharge[atom][lth]=qlrlistdotcharge[atom][lth]**(1/2)\n",
    "qlr_r=np.linspace(0,boocut*bohr,len(charge),endpoint=False)\n",
    "\n",
    "average_qlrdotcharge=np.average(qlrlistdotcharge,axis=0)[0]\n",
    "averagecharge=np.average(chargelist,axis=0)\n",
    "average_qlr=average_qlrdotcharge/averagecharge\n",
    "\n",
    "\n",
    "plt.figure()\n",
    "plt.plot(qlr_r,average_qlrdotcharge)\n",
    "plt.show()\n",
    "plt.figure()\n",
    "plt.plot(qlr_r,averagecharge)\n",
    "plt.show()\n",
    "\n",
    "plt.figure()\n",
    "plt.plot(qlr_r,average_qlr)\n",
    "plt.show()\n",
    "\n"
   ]
  },
  {
   "cell_type": "markdown",
   "metadata": {},
   "source": [
    "## CD Debug Tools"
   ]
  },
  {
   "cell_type": "code",
   "execution_count": 9,
   "metadata": {},
   "outputs": [],
   "source": [
    "gridtest=np.array(cChargcal.gridtest)"
   ]
  },
  {
   "cell_type": "code",
   "execution_count": 25,
   "metadata": {},
   "outputs": [
    {
     "data": {
      "text/plain": [
       "[300, 300, 288]"
      ]
     },
     "execution_count": 25,
     "metadata": {},
     "output_type": "execute_result"
    }
   ],
   "source": [
    "cChargcal.nxyz"
   ]
  },
  {
   "cell_type": "code",
   "execution_count": 10,
   "metadata": {},
   "outputs": [],
   "source": [
    "plt.figure()\n",
    "plt.hist(gridtest.reshape(cChargcal.nxyz[0]*cChargcal.nxyz[1]*cChargcal.nxyz[2]),range=[np.min(gridtest),np.max(gridtest)],bins=int(np.max(gridtest)-np.min(gridtest)))\n",
    "plt.show()"
   ]
  },
  {
   "cell_type": "code",
   "execution_count": 21,
   "metadata": {},
   "outputs": [],
   "source": [
    "x=[]\n",
    "y=[]\n",
    "z=[]\n",
    "for i in range(cChargcal.nxyz[0]):\n",
    "    for j in range(cChargcal.nxyz[1]):\n",
    "        for k in range(cChargcal.nxyz[2]):\n",
    "            if gridtest[i][j][k]==0:\n",
    "                x.append(i)\n",
    "                y.append(j)\n",
    "                z.append(k)\n",
    "                "
   ]
  },
  {
   "cell_type": "code",
   "execution_count": 12,
   "metadata": {},
   "outputs": [],
   "source": [
    "from mpl_toolkits.mplot3d import axes3d\n",
    "\n",
    "fig = plt.figure()\n",
    "ax1 = fig.add_subplot(111, projection='3d')\n",
    "ax1.scatter(x, y, z, c = 'm')\n",
    "plt.show()"
   ]
  },
  {
   "cell_type": "code",
   "execution_count": 13,
   "metadata": {},
   "outputs": [
    {
     "data": {
      "text/plain": [
       "[]"
      ]
     },
     "execution_count": 13,
     "metadata": {},
     "output_type": "execute_result"
    }
   ],
   "source": [
    "x"
   ]
  },
  {
   "cell_type": "code",
   "execution_count": 15,
   "metadata": {},
   "outputs": [],
   "source": [
    "rho=np.array(cChargcal.rho)"
   ]
  },
  {
   "cell_type": "code",
   "execution_count": 16,
   "metadata": {},
   "outputs": [
    {
     "data": {
      "text/plain": [
       "32928.000000000044"
      ]
     },
     "execution_count": 16,
     "metadata": {},
     "output_type": "execute_result"
    }
   ],
   "source": [
    "np.sum(rho)*cChargcal.dxvol"
   ]
  },
  {
   "cell_type": "code",
   "execution_count": 14,
   "metadata": {},
   "outputs": [
    {
     "data": {
      "text/plain": [
       "32927.999999999985"
      ]
     },
     "execution_count": 14,
     "metadata": {},
     "output_type": "execute_result"
    }
   ],
   "source": [
    "np.sum(den)"
   ]
  },
  {
   "cell_type": "markdown",
   "metadata": {},
   "source": [
    "### for python version"
   ]
  },
  {
   "cell_type": "code",
   "execution_count": null,
   "metadata": {},
   "outputs": [],
   "source": [
    "cChargcal=ChargeAnalysis.ChargeAnalysis()\n",
    "cChargcal.debug=True\n",
    "cChargcal.ChargeAnalysisInit('atlas.den50',np.sum(sys1.box,axis=0)/bohr,sys1.natoms)\n",
    "\n",
    "sys1.find_neighbors(method=\"voronoi\")#method can be selected among \"cutoff voronoi number\", details can \n",
    "atomsvoro = sys1.atoms\n",
    "den=[0 for i in range(len(atomsvoro))]\n",
    "\n",
    "for atom in atomsvoro:\n",
    "    v3s=[]\n",
    "    st = 1\n",
    "    for vno in atom.face_vertices:\n",
    "        vphase = atom.vertex_numbers[st:st+vno]\n",
    "        ipos = atom.vertex_positions[vphase[0]]\n",
    "        jpos = atom.vertex_positions[vphase[int((len(vphase)-1)/2)]]\n",
    "        kpos = atom.vertex_positions[vphase[len(vphase)-1]]\n",
    "        v3s.append([ipos,jpos,kpos])\n",
    "        st += (vno+1)\n",
    "    cChargcal.set_vertex(np.array(v3s)/bohr,np.array(atom.vertex_positions)/bohr)\n",
    "    den[atom.loc]=cChargcal.SumMethod()\n",
    "    print(den[atom.loc])\n",
    "\n"
   ]
  },
  {
   "cell_type": "markdown",
   "metadata": {},
   "source": [
    "## Calculate Order Parameter and Show it"
   ]
  },
  {
   "cell_type": "code",
   "execution_count": 7,
   "metadata": {},
   "outputs": [],
   "source": [
    "deviden13atoms=False\n",
    "\n",
    "bins2d=100\n",
    "cut2d=[3,4]\n",
    "histq4w4range=[[0,0.25],[-0.2,0.2]]\n",
    "histq4q8range=[[0,0.25],[0.15,0.5]]\n",
    "histq4aq6range=[[0,0.25],[0,0.55]]\n",
    "histaq4aq6range=[[0,0.2],[0,0.6]]\n",
    "neighbordistrange=(10,18)\n",
    "histq4w4=[]\n",
    "histq4q8=[]\n",
    "histq4aq6=[]\n",
    "histaq4aq6=[]\n",
    "neighbordist=[]\n",
    "solidnum=0\n",
    "precursornum=0\n",
    "neighborthreshold2d=2\n",
    "precursoraq6cut=0.25\n",
    "showmode='all' #all precursor solid\n",
    "\n",
    "import warnings\n",
    "warnings.simplefilter('ignore', np.RankWarning)\n",
    "pdfbintemp=int(200*(cut2d[1]-cut2d[0]))\n",
    "\n",
    "pdf, r=sys1.calculate_pdf(histobins=pdfbintemp,histomin=cut2d[0],cut=cut2d[1],threadnum=1)\n",
    "c1=np.polyfit(r,pdf,20)\n",
    "yfit1=np.polyval(c1,r)\n",
    "cut1=(np.argmin(yfit1))\n",
    "\n",
    "min2=np.max([0,cut1-100])\n",
    "max2=np.min([pdfbintemp,cut1+100])\n",
    "\n",
    "c2=np.polyfit(r[min2:max2],pdf[min2:max2],20)\n",
    "yfit2=np.polyval(c2,r)\n",
    "cut2=(np.argmin(yfit2[min2:max2])+min2)\n",
    "cutoffv=cut2d[0]+cut2*(cut2d[1]-cut2d[0])/pdfbintemp\n",
    "\n",
    "sys1.find_neighbors(method='cutoff',cutoff=cutoffv)\n",
    "\n",
    "if deviden13atoms:\n",
    "    atom13list=set()\n",
    "    for atomi,atom in enumerate(sys1.atoms):\n",
    "        if len(atom.neighbors)==13:\n",
    "            atom13list.add(atomi)\n",
    "\n",
    "    atom13to12list=set()\n",
    "    atom13to14list=set()\n",
    "    if len(atom13list)>0:\n",
    "        sys1.find_neighbors_bynumber_atomlist(threshold=neighborthreshold2d,nmax=14,atomlist=list(atom13list))\n",
    "\n",
    "    atomstemp=sys1.atoms\n",
    "\n",
    "    for atomi in atom13list:\n",
    "        atom=atomstemp[atomi]\n",
    "        delta= (atom.neighbor_distance[13-1]+atom.neighbor_distance[14-1])/2-cutoffv\n",
    "        if delta>0:\n",
    "            atom13to12list.add(atomi)\n",
    "        elif delta<=0:\n",
    "            atom13to14list.add(atomi)\n",
    "    if len(atom13to12list)>0:\n",
    "        sys1.find_neighbors_bynumber_atomlist(threshold=neighborthreshold2d,nmax=12,atomlist=list(atom13to12list))\n",
    "    if len(atom13to14list)>0:\n",
    "        sys1.find_neighbors_bynumber_atomlist(threshold=neighborthreshold2d,nmax=14,atomlist=list(atom13to14list))\n",
    "\n",
    "sys1.calculate_q([4,6,8],averaged=False,clear_condition=True)\n",
    "sys1.find_solids(bonds=7,threshold=0.7,cluster=False)\n",
    "sys1.calculate_q([4,6,8],averaged=True,condition='solid',only_averaged=True)\n",
    "sys1.calculate_w(4,averaged=False)\n",
    "\n",
    "atomslist=set(sys1.atoms)\n",
    "solidlist=set()\n",
    "for atomi,atom in enumerate(atomslist):\n",
    "    if atom.solid:\n",
    "        solidlist.add(atom)\n",
    "\n",
    "liquidlist=set()\n",
    "for atomi,atom in enumerate(atomslist):\n",
    "    if not atom.solid:\n",
    "        liquidlist.add(atom)\n",
    "\n",
    "aq6_cutlist=set()\n",
    "for atomi,atom in enumerate(atomslist):\n",
    "    if atom.get_q(6,True)>precursoraq6cut:\n",
    "        aq6_cutlist.add(atom)\n",
    "\n",
    "precursorlist=liquidlist.intersection(aq6_cutlist)\n",
    "\n",
    "if showmode=='precursor':\n",
    "    showlist=precursorlist\n",
    "if showmode=='solid':\n",
    "    showlist=solidlist\n",
    "if showmode=='all':\n",
    "    showlist=atomslist\n",
    "\n",
    "q4=[]\n",
    "q6=[]\n",
    "q8=[]\n",
    "aq4=[]\n",
    "aq6=[]\n",
    "w4=[]\n",
    "for atom in showlist:\n",
    "    q4.append(atom.get_q(4,False))\n",
    "    q6.append(atom.get_q(6,False))\n",
    "    q8.append(atom.get_q(8,False))\n",
    "    aq4.append(atom.get_q(4,True))\n",
    "    aq6.append(atom.get_q(6,True))\n",
    "    w4.append(sys1.w[0][atom.loc])   \n",
    "solidnum=len(solidlist)\n",
    "precursornum=len(precursorlist)\n",
    "histq4w4,X,Y=np.histogram2d(x=q4,y=w4,bins=bins2d,density=False,range=histq4w4range)\n",
    "histq4q8,X,Y=np.histogram2d(x=q4,y=q8,bins=bins2d,density=False,range=histq4q8range)\n",
    "histq4aq6,X,Y=np.histogram2d(x=q4,y=aq6,bins=bins2d,density=False,range=histq4aq6range)\n",
    "histaq4aq6,X,Y=np.histogram2d(x=aq4,y=aq6,bins=bins2d,density=False,range=histaq4aq6range)\n",
    "a=np.array([len(atom.neighbors) for atom in atomslist])\n",
    "neighbordist,r=np.histogram(range=neighbordistrange,a=a,bins=(neighbordistrange[1]-neighbordistrange[0]))\n"
   ]
  },
  {
   "cell_type": "code",
   "execution_count": null,
   "metadata": {},
   "outputs": [],
   "source": [
    "print('solidnum:',solidnum)\n",
    "print('precursornum:',precursornum)\n",
    "#plt.style.use(['science','no-latex'])\n",
    "savefig=False\n",
    "#basecolorbar=np.array([0.02,0.05,0.1,0.2,0.3,0.5,0.7,0.9,1])\n",
    "#basecolorbar=np.array(np.linspace(0,1,11))\n",
    "def colorbarfunc(array):\n",
    "    array=np.array(array)\n",
    "    return np.linspace(array[~np.isneginf(array)].min(),array[~np.isneginf(array)].max(),11)\n",
    "\n",
    "with np.errstate(divide='ignore'):\n",
    "    histq4q8log=np.log(histq4q8)\n",
    "    histq4w4log=np.log(histq4w4)\n",
    "    histq4aq6log=np.log(histq4aq6)\n",
    "    histaq4aq6log=np.log(histaq4aq6)\n",
    "\n",
    "    \n",
    "heightbarq4q8=colorbarfunc(histq4q8log)\n",
    "heightbarq4w4=colorbarfunc(histq4w4log)\n",
    "heightbarq4aq6=colorbarfunc(histq4aq6log)\n",
    "heightbaraq4aq6=colorbarfunc(histaq4aq6log)\n",
    "\n",
    "histq4q8log[np.isneginf(histq4q8log)]=1e100\n",
    "histq4w4log[np.isneginf(histq4w4log)]=1e100\n",
    "histq4aq6log[np.isneginf(histq4aq6log)]=1e100\n",
    "histaq4aq6log[np.isneginf(histaq4aq6log)]=1e100\n",
    "\n",
    "#from IPython import embed\n",
    "#embed()\n",
    "hist,X,Y=np.histogram2d(x=[histq4q8range[0][0]],y=[histq4q8range[1][0]],bins=bins2d,density=True,range=histq4q8range)\n",
    "x,y=np.meshgrid(X[0:len(X)-1],Y[0:len(Y)-1],indexing='ij')\n",
    "#heightbar=colorbarfunc(histq4q8)\n",
    "plt.figure(dpi=150)\n",
    "sns.set()\n",
    "plt.contourf(x,y,histq4q8log,heightbarq4q8,cmap='tab20b')\n",
    "plt.colorbar()\n",
    "plt.title('q4-q8 distribution')\n",
    "plt.xlabel('q4')\n",
    "plt.ylabel('q8')\n",
    "if(savefig==True):\n",
    "    plt.savefig('q4-q8'+plotextraname+'.png')\n",
    "    plt.close()\n",
    "else:\n",
    "    plt.show()\n",
    "\n",
    "hist,X,Y=np.histogram2d(x=[histq4w4range[0][0]],y=[histq4w4range[1][0]],bins=bins2d,density=True,range=histq4w4range)\n",
    "x,y=np.meshgrid(X[0:len(X)-1],Y[0:len(Y)-1],indexing='ij')\n",
    "#heightbar=colorbarfunc(histq4w4)\n",
    "plt.figure(dpi=150)\n",
    "sns.set()\n",
    "#from IPython import embed\n",
    "#embed()\n",
    "plt.contourf(x,y,histq4w4log,heightbarq4w4,cmap='tab20b')\n",
    "plt.colorbar()\n",
    "plt.title('q4-w4 distribution')\n",
    "plt.xlabel('q4')\n",
    "plt.ylabel('w4')\n",
    "if(savefig==True):\n",
    "    plt.savefig('q4-w4'+plotextraname+'.png')\n",
    "    plt.close()\n",
    "else:\n",
    "    plt.show()\n",
    "\n",
    "hist,X,Y=np.histogram2d(x=[histq4aq6range[0][0]],y=[histq4aq6range[1][0]],bins=bins2d,density=True,range=histq4aq6range)\n",
    "x,y=np.meshgrid(X[0:len(X)-1],Y[0:len(Y)-1],indexing='ij')\n",
    "#heightbar=colorbarfunc(histq4aq6)\n",
    "plt.figure(dpi=150)\n",
    "sns.set()\n",
    "plt.contourf(x,y,histq4aq6log,heightbarq4aq6,cmap='tab20b')\n",
    "plt.colorbar()\n",
    "plt.title('q4-aq6 distribution')\n",
    "plt.xlabel('q4')\n",
    "plt.ylabel('aq6')\n",
    "if(savefig==True):\n",
    "    plt.savefig('q4-aq6'+plotextraname+'.png')\n",
    "    plt.close()\n",
    "else:\n",
    "    plt.show()\n",
    "\n",
    "hist,X,Y=np.histogram2d(x=[histaq4aq6range[0][0]],y=[histaq4aq6range[1][0]],bins=bins2d,density=True,range=histaq4aq6range)\n",
    "x,y=np.meshgrid(X[0:len(X)-1],Y[0:len(Y)-1],indexing='ij')\n",
    "#heightbar=colorbarfunc(histaq4aq6)\n",
    "plt.figure(dpi=150)\n",
    "sns.set()\n",
    "plt.contourf(x,y,histaq4aq6log,heightbaraq4aq6,cmap='tab20b')\n",
    "plt.colorbar()\n",
    "plt.title('aq4-aq6 distribution')\n",
    "plt.xlabel('aq4')\n",
    "plt.ylabel('aq6')\n",
    "if(savefig==True):\n",
    "    plt.savefig('aq4-aq6'+plotextraname+'.png')\n",
    "    plt.close()\n",
    "else:\n",
    "    plt.show()\n",
    "\n",
    "plt.figure(dpi=150)\n",
    "plt.bar(x=range(neighbordistrange[0],neighbordistrange[1]),height=neighbordist)\n",
    "plt.title('neighbor number distribution')\n",
    "plt.xlabel('neighbor number')\n",
    "plt.ylabel('count')\n",
    "if(savefig==True):\n",
    "    plt.savefig('neighbornumberdistribution'+plotextraname+'.png')\n",
    "    plt.close()\n",
    "else:\n",
    "    plt.show()\n",
    "\n",
    "            "
   ]
  },
  {
   "cell_type": "markdown",
   "metadata": {},
   "source": [
    "## compare the ChargeDensity of atoms with different order"
   ]
  },
  {
   "cell_type": "code",
   "execution_count": 26,
   "metadata": {},
   "outputs": [
    {
     "data": {
      "text/plain": [
       "12.478133398485218"
      ]
     },
     "execution_count": 26,
     "metadata": {},
     "output_type": "execute_result"
    }
   ],
   "source": [
    "np.average([len(atom.neighbors) for atom in liquidlist])"
   ]
  },
  {
   "cell_type": "code",
   "execution_count": 27,
   "metadata": {},
   "outputs": [
    {
     "data": {
      "text/plain": [
       "12.186617100371747"
      ]
     },
     "execution_count": 27,
     "metadata": {},
     "output_type": "execute_result"
    }
   ],
   "source": [
    "np.average([len(atom.neighbors) for atom in precursorlist])"
   ]
  },
  {
   "cell_type": "code",
   "execution_count": 28,
   "metadata": {},
   "outputs": [
    {
     "data": {
      "text/plain": [
       "12.177777777777777"
      ]
     },
     "execution_count": 28,
     "metadata": {},
     "output_type": "execute_result"
    }
   ],
   "source": [
    "np.average([len(atom.neighbors) for atom in solidlist])"
   ]
  },
  {
   "cell_type": "code",
   "execution_count": 8,
   "metadata": {},
   "outputs": [],
   "source": [
    "atomslist=set(sys1.atoms)\n",
    "n11list=set()\n",
    "n12list=set()\n",
    "n13list=set()\n",
    "n14list=set()\n",
    "n15list=set()\n",
    "for atom in atomslist:\n",
    "    if len(atom.neighbors)==11:\n",
    "        n11list.add(atom)\n",
    "    if len(atom.neighbors)==12:\n",
    "        n12list.add(atom)\n",
    "    if len(atom.neighbors)==13:\n",
    "        n13list.add(atom)\n",
    "    if len(atom.neighbors)==14:\n",
    "        n14list.add(atom)\n",
    "    if len(atom.neighbors)==15:\n",
    "        n15list.add(atom)\n",
    "\n",
    "allCD=[[] for i in range(allmodenum)]\n",
    "liquidCD=[[] for i in range(allmodenum)]\n",
    "solidCD=[[] for i in range(allmodenum)]\n",
    "precursorCD=[[] for i in range(allmodenum)]\n",
    "\n",
    "n11CD=[[] for i in range(allmodenum)]\n",
    "n12CD=[[] for i in range(allmodenum)]\n",
    "n13CD=[[] for i in range(allmodenum)]\n",
    "n14CD=[[] for i in range(allmodenum)]\n",
    "n15CD=[[] for i in range(allmodenum)]\n",
    "\n",
    "for a in modes:\n",
    "\n",
    "    allCD[a]=[CDresults[a][atom.loc] for atom in atomslist]\n",
    "    liquidCD[a]=[CDresults[a][atom.loc] for atom in liquidlist]\n",
    "    solidCD[a]=[CDresults[a][atom.loc] for atom in solidlist]\n",
    "    precursorCD[a]=[CDresults[a][atom.loc] for atom in precursorlist]\n",
    "\n",
    "    n11CD[a]=[CDresults[a][atom.loc] for atom in n11list]\n",
    "    n12CD[a]=[CDresults[a][atom.loc] for atom in n12list]\n",
    "    n13CD[a]=[CDresults[a][atom.loc] for atom in n13list]\n",
    "    n14CD[a]=[CDresults[a][atom.loc] for atom in n14list]\n",
    "    n15CD[a]=[CDresults[a][atom.loc] for atom in n15list]\n",
    "\n"
   ]
  },
  {
   "cell_type": "code",
   "execution_count": 9,
   "metadata": {},
   "outputs": [],
   "source": [
    "savefig=False\n",
    "if not deviden13atoms:\n",
    "    plotlist=[n11CD,n12CD,n13CD,n14CD,n15CD,liquidCD,precursorCD,solidCD,allCD]\n",
    "    plotliststr=[\"n11CD\",\"n12CD\",\"n13CD\",\"n14CD\",\"n15CD\",'liquidCD','precursorCD','solidCD',\"all\"]\n",
    "    subfigrow=3\n",
    "    subfigcol=4\n",
    "    subfigsize=(16,12)\n",
    "else:\n",
    "    plotlist=[n11CD,n12CD,n14CD,n15CD,liquidCD,precursorCD,solidCD,allCD]\n",
    "    plotliststr=[\"n11CD\",\"n12CD\",\"n14CD\",\"n15CD\",'liquidCD','precursorCD','solidCD',\"all\"]\n",
    "    subfigrow=2\n",
    "    subfigcol=4\n",
    "    subfigsize=(16,8)"
   ]
  },
  {
   "cell_type": "code",
   "execution_count": 10,
   "metadata": {},
   "outputs": [],
   "source": [
    "\n",
    "plotmax=histbin\n",
    "plotmin=int(histbin/5)\n",
    "plt.figure( dpi=150,figsize=subfigsize)\n",
    "sns.set()\n",
    "for i,a in enumerate( plotlist):\n",
    "    plt.subplot(subfigrow,subfigcol,i+1)\n",
    "    stri=plotliststr[i]\n",
    "    savefig=False\n",
    "    CDbin=50\n",
    "    r=bohr*(np.linspace(histlow,pdfcut,histbin,endpoint=False)+(pdfcut-histlow)/histbin/2)\n",
    "    atomnum=len(a[modepdf])\n",
    "    temp=np.sum(a[modepdf],axis=0)/atomnum\n",
    "   \n",
    "    plt.plot(r[plotmin:plotmax],temp[plotmin:plotmax])\n",
    "    plt.title(str(atomnum)+' Atom-'+stri)\n",
    "    plt.xlabel('Distance/Å')\n",
    "    plt.ylabel('Charge Density')\n",
    "    plt.ylim(0.023,0.033)\n",
    "plt.suptitle('ChargeDensity Ratial Distribution')\n",
    "plt.tight_layout()\n",
    "if(savefig==True):\n",
    "    plt.savefig('CDRDF'+plotextraname+'.png')\n",
    "    plt.close()\n",
    "else:\n",
    "    plt.show()\n"
   ]
  },
  {
   "cell_type": "code",
   "execution_count": 12,
   "metadata": {},
   "outputs": [],
   "source": [
    "CDbin=50\n",
    "plt.figure( dpi=150,figsize=subfigsize)\n",
    "sns.set()\n",
    "for i,a in enumerate( plotlist):\n",
    "    plt.subplot(subfigrow,subfigcol,i+1)\n",
    "    stri=plotliststr[i]\n",
    "    plt.hist(a[modecutoffsum],bins=CDbin)\n",
    "    plt.title('Atoms-'+stri)\n",
    "    plt.xlabel('ChargeSum')\n",
    "    plt.ylabel('count')\n",
    "plt.suptitle('ChargeSummation in Cut '+'%5.3f'%CDSumCut)\n",
    "plt.tight_layout()\n",
    "if(savefig==True):\n",
    "    plt.savefig('CDCutSum'+'%5.3f'%CDSumCut+plotextraname+'.png')\n",
    "    plt.close()\n",
    "else:\n",
    "    plt.show()\n"
   ]
  },
  {
   "cell_type": "markdown",
   "metadata": {},
   "source": [
    "# Other Tools"
   ]
  },
  {
   "cell_type": "markdown",
   "metadata": {
    "pycharm": {
     "name": "#%% md\n"
    }
   },
   "source": [
    "## PDF-Total"
   ]
  },
  {
   "cell_type": "code",
   "execution_count": 9,
   "metadata": {
    "pycharm": {
     "name": "#%%\n"
    }
   },
   "outputs": [
    {
     "data": {
      "image/png": "[encoded data removed]",
      "text/plain": [
       "<Figure size 900x600 with 1 Axes>"
      ]
     },
     "metadata": {},
     "output_type": "display_data"
    }
   ],
   "source": [
    "\n",
    "histnum=1000#直方图分割数量(密度)\n",
    "pdf, r=sys1.calculate_pdf(histobins=histnum,histomin=0,cut=5,threadnum=20)\n",
    "plt.figure(dpi=150)\n",
    "plt.plot(r,pdf);\n",
    "plt.show()"
   ]
  },
  {
   "cell_type": "markdown",
   "metadata": {
    "pycharm": {
     "name": "#%% md\n"
    }
   },
   "source": [
    "## PDF-Partial"
   ]
  },
  {
   "cell_type": "code",
   "execution_count": 7,
   "metadata": {
    "pycharm": {
     "name": "#%%\n"
    }
   },
   "outputs": [
    {
     "data": {
      "image/png": "[encoded data removed]",
      "text/plain": [
       "<Figure size 900x600 with 1 Axes>"
      ]
     },
     "metadata": {},
     "output_type": "display_data"
    },
    {
     "name": "stdout",
     "output_type": "stream",
     "text": [
      "0.0\n",
      "1.0\n"
     ]
    }
   ],
   "source": [
    "histnum=100#直方图分割数量(密度)\n",
    "pdfp, r=sys1.calculate_pdf(histobins=histnum,histomin=0,cut=10,partial=True,centertype=1,secondtype=2,threadnum=10)\n",
    "#sns.set()\n",
    "plt.figure(dpi=150)\n",
    "plt.plot(r,pdfp);\n",
    "plt.show()\n",
    "print(np.average( pdfp[-100:-1]))\n",
    "print(1/sys1.natoms*sys1.ntotal)"
   ]
  },
  {
   "cell_type": "markdown",
   "metadata": {
    "pycharm": {
     "name": "#%% md\n"
    }
   },
   "source": [
    "## Bond Angle Distribution"
   ]
  },
  {
   "cell_type": "code",
   "execution_count": 19,
   "metadata": {
    "pycharm": {
     "name": "#%%\n"
    }
   },
   "outputs": [
    {
     "data": {
      "image/png": "[encoded data removed]",
      "text/plain": [
       "<Figure size 900x600 with 1 Axes>"
      ]
     },
     "metadata": {
      "needs_background": "light"
     },
     "output_type": "display_data"
    }
   ],
   "source": [
    "bad, r2=sys1.calculate_bad(histobins=1000,histomin=0,histomax=np.pi);\n",
    "plt.figure(dpi=150)\n",
    "plt.plot(r2*180/np.pi,bad);"
   ]
  },
  {
   "cell_type": "markdown",
   "metadata": {
    "pycharm": {
     "name": "#%% md\n"
    }
   },
   "source": [
    "## Structure Factor-FFT Method"
   ]
  },
  {
   "cell_type": "code",
   "execution_count": null,
   "metadata": {
    "pycharm": {
     "name": "#%%\n"
    }
   },
   "outputs": [],
   "source": [
    "sf,q=sys1.calculate_sf(pdf, r,0);\n",
    "plt.figure(dpi=150)\n",
    "plt.plot(q[0:int(len(q)/20/histnum*2000)],sf[0:int(len(sf)/20/histnum*2000)]);\n"
   ]
  },
  {
   "cell_type": "markdown",
   "metadata": {
    "pycharm": {
     "name": "#%% md\n"
    }
   },
   "source": [
    "## Structure Factor-Integration Method"
   ]
  },
  {
   "cell_type": "code",
   "execution_count": null,
   "metadata": {
    "pycharm": {
     "name": "#%%\n"
    }
   },
   "outputs": [],
   "source": [
    "sf,q=sys1.calculate_sf(pdf, r,10);\n",
    "plt.figure(dpi=150)\n",
    "plt.plot(q[0:int(len(q)/20/histnum*2000)],sf[0:int(len(sf)/20/histnum*2000)]);"
   ]
  },
  {
   "cell_type": "markdown",
   "metadata": {
    "pycharm": {
     "name": "#%% md\n"
    }
   },
   "source": [
    "## SRO-Cowley"
   ]
  },
  {
   "cell_type": "code",
   "execution_count": null,
   "metadata": {
    "pycharm": {
     "name": "#%%\n"
    }
   },
   "outputs": [],
   "source": [
    "SRO_Cowley=sys1.calculate_pmsro(reference_type=1,compare_type=2)\n",
    "print('The Cowley SRO is '+str(SRO_Cowley[0]))"
   ]
  },
  {
   "cell_type": "markdown",
   "metadata": {
    "pycharm": {
     "name": "#%% md\n"
    }
   },
   "source": [
    "## SRO-Cargill-Spaepen"
   ]
  },
  {
   "cell_type": "code",
   "execution_count": null,
   "metadata": {
    "pycharm": {
     "name": "#%%\n"
    }
   },
   "outputs": [],
   "source": [
    "SRO_CS_unnorm=sys1.calculate_pmsro_CS(reference_type=1,compare_type=2,normalization=False)\n",
    "SRO_CS_norm=sys1.calculate_pmsro_CS(reference_type=1,compare_type=2,normalization=True)\n",
    "print('The Cowley SRO (unnormalized) is '+str(SRO_CS_unnorm))\n",
    "print('The Cowley SRO (nnormalized)  is '+str(SRO_CS_norm))\n"
   ]
  },
  {
   "cell_type": "markdown",
   "metadata": {
    "pycharm": {
     "name": "#%% md\n"
    }
   },
   "source": [
    "## CNA"
   ]
  },
  {
   "cell_type": "code",
   "execution_count": null,
   "metadata": {
    "pycharm": {
     "name": "#%%\n"
    }
   },
   "outputs": [],
   "source": [
    "CNA=sys1.calculate_cna()\n",
    "print('CNA statistics of the system is '+str(CNA))\n",
    "print('the structure number of atom0 is: '+str(sys1.atoms[0].structure))"
   ]
  },
  {
   "cell_type": "markdown",
   "metadata": {
    "pycharm": {
     "name": "#%% md\n"
    }
   },
   "source": [
    "## Voronoi Structure Identification"
   ]
  },
  {
   "cell_type": "code",
   "execution_count": null,
   "metadata": {
    "pycharm": {
     "name": "#%%\n"
    }
   },
   "outputs": [],
   "source": [
    "sys1.calculate_vorovector()\n",
    "print('the vorovector (n3, n4, n5, n6) for Atom 0 is '+str(sys1.atoms[0].vorovector))"
   ]
  },
  {
   "cell_type": "markdown",
   "metadata": {
    "pycharm": {
     "name": "#%% md\n"
    }
   },
   "source": [
    "## BOO"
   ]
  },
  {
   "cell_type": "code",
   "execution_count": null,
   "metadata": {
    "pycharm": {
     "name": "#%%\n"
    }
   },
   "outputs": [],
   "source": [
    "sys1.calculate_q([2,4,5,6])\n",
    "BOO=sys1.get_qvals([2,4,5,6])\n",
    "print('the BOO number (q2, q4, q5, q6) for Atom 0 is '+str(BOO[0][0])+' '+str(BOO[0][1])+' '+str(BOO[0][2])+' '+str(BOO[0][3]))"
   ]
  },
  {
   "cell_type": "code",
   "execution_count": 8,
   "metadata": {
    "pycharm": {
     "name": "#%%\n"
    }
   },
   "outputs": [
    {
     "name": "stdout",
     "output_type": "stream",
     "text": [
      "the vorovector (n3, n4, n5, n6) for Atom 0 is [0, 12, 0, 0]\n"
     ]
    }
   ],
   "source": [
    "sys1.calculate_vorovector()\n",
    "print('the vorovector (n3, n4, n5, n6) for Atom 0 is '+str(sys1.atoms[0].vorovector))"
   ]
  },
  {
   "cell_type": "markdown",
   "metadata": {
    "pycharm": {
     "name": "#%% md\n"
    }
   },
   "source": [
    "## Output the Atom Configuration and Atom Property"
   ]
  },
  {
   "cell_type": "code",
   "execution_count": 15,
   "metadata": {
    "pycharm": {
     "name": "#%%\n"
    }
   },
   "outputs": [
    {
     "name": "stderr",
     "output_type": "stream",
     "text": [
      "c:\\Users\\baizh\\anaconda3\\lib\\site-packages\\pyscal-2.10.15-py3.9-win-amd64.egg\\pyscal\\formats\\vasp.py:61: UserWarning: Using legacy poscar writer, to use ASE backend specify species\n",
      "  warnings.warn(\"Using legacy poscar writer, to use ASE backend specify species\")\n"
     ]
    }
   ],
   "source": [
    "sys1.to_file('out',format='poscar')#We can directly output the atom configuration into poscar \n",
    "sys1.to_file('out'+file,format='lammps-dump',customkeys=['aq2','aq4','aq5','aq6'])\n",
    "#aqn for average qn, qn for qn, other key name is the same with the attribute name, only lammps support custumkeys\n"
   ]
  },
  {
   "cell_type": "markdown",
   "metadata": {
    "pycharm": {
     "name": "#%% md\n"
    }
   },
   "source": [
    "## Visualization tool"
   ]
  },
  {
   "cell_type": "markdown",
   "metadata": {
    "pycharm": {
     "name": "#%% md\n"
    }
   },
   "source": [
    "This is a interactive tool which can only be used in Jupyter Notebook environment, and cannot be seen here."
   ]
  },
  {
   "cell_type": "code",
   "execution_count": 7,
   "metadata": {
    "pycharm": {
     "name": "#%%\n"
    }
   },
   "outputs": [
    {
     "data": {
      "application/vnd.jupyter.widget-view+json": {
       "model_id": "5afa5c45bd9146238e381cc21e32a75f",
       "version_major": 2,
       "version_minor": 0
      },
      "text/plain": [
       "interactive(children=(FloatSlider(value=1.0, description='radius', max=30.0, min=1.0, step=1.0), Text(value='S…"
      ]
     },
     "metadata": {},
     "output_type": "display_data"
    }
   ],
   "source": [
    "sys1.show()"
   ]
  },
  {
   "cell_type": "code",
   "execution_count": null,
   "metadata": {
    "pycharm": {
     "name": "#%%\n"
    }
   },
   "outputs": [],
   "source": []
  }
 ],
 "metadata": {
  "interpreter": {
   "hash": "05c462696de6970a7bef4e0747e80a5358d81c7269bc59bbbd24355021b76389"
  },
  "kernelspec": {
   "display_name": "Python 3 (ipykernel)",
   "language": "python",
   "name": "python3"
  },
  "language_info": {
   "codemirror_mode": {
    "name": "ipython",
    "version": 3
   },
   "file_extension": ".py",
   "mimetype": "text/x-python",
   "name": "python",
   "nbconvert_exporter": "python",
   "pygments_lexer": "ipython3",
   "version": "3.9.12"
  }
 },
 "nbformat": 4,
 "nbformat_minor": 2
}
